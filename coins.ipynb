{
 "metadata": {
  "name": "",
  "signature": "sha256:2c29c9cd22cd6f3b02c47a6c1602e825ca5ee824864057e6c09695cfb3b3c4b1"
 },
 "nbformat": 3,
 "nbformat_minor": 0,
 "worksheets": [
  {
   "cells": [
    {
     "cell_type": "markdown",
     "metadata": {},
     "source": [
      "You have a large bag of US coins: pennies, nickels, dimes, quarters,and half dollars (US Coinage). To pay for an item, you draw coins(with equal probability) until you have enough to pay for the item and hand all the coins to the cashier. What is the mean and standard deviation of your change for the various amounts below. Please give your answer to 10 places after the decimal (the more accurate you can be, the better)."
     ]
    },
    {
     "cell_type": "code",
     "collapsed": false,
     "input": [
      "import random, math\n",
      "import scipy\n",
      "\n",
      "def simGetChange(amount, numTrials):\n",
      "    changes = []\n",
      "    values = [1, 5, 10, 25, 50]\n",
      "    for i in range(0, numTrials):\n",
      "        value = 0\n",
      "        while value<amount:\n",
      "            value += values[random.randint(0,4)]\n",
      "            #print(value)\n",
      "        changes.append(value-amount)\n",
      "        #print(changes)\n",
      "    changeMean = format(scipy.mean(changes), '.10f')\n",
      "    changeSD = format(scipy.std(changes), '.10f')\n",
      "\n",
      "    print \"The mean of the changes is: \", changeMean, \"\\nThe standard deviation of the changes is: \", changeSD"
     ],
     "language": "python",
     "metadata": {},
     "outputs": [],
     "prompt_number": 15
    },
    {
     "cell_type": "code",
     "collapsed": false,
     "input": [
      "##Simulation for the scenarios: $0.25, $1.00, $10.00   \n",
      "simGetChange(25, 100000)   "
     ],
     "language": "python",
     "metadata": {},
     "outputs": [
      {
       "output_type": "stream",
       "stream": "stdout",
       "text": [
        "The mean of the changes is:  16.3469300000 \n",
        "The standard deviation of the changes is:  14.2139934422\n"
       ]
      }
     ],
     "prompt_number": 16
    },
    {
     "cell_type": "code",
     "collapsed": false,
     "input": [
      "simGetChange(100, 100000)"
     ],
     "language": "python",
     "metadata": {},
     "outputs": [
      {
       "output_type": "stream",
       "stream": "stdout",
       "text": [
        "The mean of the changes is:  15.7148400000 \n",
        "The standard deviation of the changes is:  13.9641664189\n"
       ]
      }
     ],
     "prompt_number": 17
    },
    {
     "cell_type": "code",
     "collapsed": false,
     "input": [
      "simGetChange(1000, 100000)"
     ],
     "language": "python",
     "metadata": {},
     "outputs": [
      {
       "output_type": "stream",
       "stream": "stdout",
       "text": [
        "The mean of the changes is:  17.3569800000 \n",
        "The standard deviation of the changes is:  14.1700841663\n"
       ]
      }
     ],
     "prompt_number": 14
    },
    {
     "cell_type": "code",
     "collapsed": false,
     "input": [],
     "language": "python",
     "metadata": {},
     "outputs": []
    }
   ],
   "metadata": {}
  }
 ]
}